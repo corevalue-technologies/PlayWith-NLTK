{
 "cells": [
  {
   "cell_type": "code",
   "execution_count": 5,
   "metadata": {},
   "outputs": [
    {
     "name": "stderr",
     "output_type": "stream",
     "text": [
      "[nltk_data] Downloading package punkt to /Users/shubham/nltk_data...\n",
      "[nltk_data]   Unzipping tokenizers/punkt.zip.\n"
     ]
    },
    {
     "data": {
      "text/plain": [
       "True"
      ]
     },
     "execution_count": 5,
     "metadata": {},
     "output_type": "execute_result"
    }
   ],
   "source": [
    "import nltk\n",
    "from nltk.tokenize import sent_tokenize\n",
    "nltk.download('punkt')"
   ]
  },
  {
   "cell_type": "code",
   "execution_count": 6,
   "metadata": {},
   "outputs": [
    {
     "name": "stdout",
     "output_type": "stream",
     "text": [
      "['A Topic in Kafka is something where a message is sent.', 'The consumer applications which are \\ninterested in that topic pulls the message inside that topic and can do anything with that data.', 'Up \\nto a specific time, any number of consumer applications can pull this message any number of times.']\n"
     ]
    }
   ],
   "source": [
    "text = \"\"\"A Topic in Kafka is something where a message is sent. The consumer applications which are \n",
    "interested in that topic pulls the message inside that topic and can do anything with that data. Up \n",
    "to a specific time, any number of consumer applications can pull this message any number of times.\"\"\"\n",
    "sentences = sent_tokenize(text)\n",
    "print(sentences)"
   ]
  },
  {
   "cell_type": "code",
   "execution_count": 7,
   "metadata": {},
   "outputs": [
    {
     "name": "stdout",
     "output_type": "stream",
     "text": [
      "['A', 'Topic', 'in', 'Kafka', 'is', 'something', 'where', 'a', 'message', 'is', 'sent', '.', 'The', 'consumer', 'applications', 'which', 'are', 'interested', 'in', 'that', 'topic', 'pulls', 'the', 'message', 'inside', 'that', 'topic', 'and', 'can', 'do', 'anything', 'with', 'that', 'data', '.', 'Up', 'to', 'a', 'specific', 'time', ',', 'any', 'number', 'of', 'consumer', 'applications', 'can', 'pull', 'this', 'message', 'any', 'number', 'of', 'times', '.']\n"
     ]
    }
   ],
   "source": [
    "from nltk.tokenize import word_tokenize\n",
    "\n",
    "words = word_tokenize(text)\n",
    "print(words)"
   ]
  },
  {
   "cell_type": "code",
   "execution_count": 8,
   "metadata": {},
   "outputs": [
    {
     "name": "stdout",
     "output_type": "stream",
     "text": [
      "<FreqDist with 39 samples and 55 outcomes>\n"
     ]
    }
   ],
   "source": [
    "from nltk.probability import FreqDist\n",
    "\n",
    "distribution = FreqDist(words)\n",
    "print(distribution)"
   ]
  },
  {
   "cell_type": "code",
   "execution_count": 10,
   "metadata": {},
   "outputs": [
    {
     "data": {
      "text/plain": [
       "[('message', 3), ('.', 3)]"
      ]
     },
     "execution_count": 10,
     "metadata": {},
     "output_type": "execute_result"
    }
   ],
   "source": [
    "# Most common words\n",
    "distribution.most_common(2)"
   ]
  },
  {
   "cell_type": "code",
   "execution_count": 12,
   "metadata": {},
   "outputs": [
    {
     "data": {
      "image/png": "[encoded data removed]",
      "text/plain": [
       "<Figure size 432x288 with 1 Axes>"
      ]
     },
     "metadata": {
      "needs_background": "light"
     },
     "output_type": "display_data"
    },
    {
     "data": {
      "text/plain": [
       "<module 'matplotlib.pyplot' from '/Users/shubham/anaconda3/lib/python3.6/site-packages/matplotlib/pyplot.py'>"
      ]
     },
     "execution_count": 12,
     "metadata": {},
     "output_type": "execute_result"
    }
   ],
   "source": [
    "# Frequency Distribution Plot\n",
    "import matplotlib.pyplot as plt\n",
    "\n",
    "distribution.plot(30, cumulative=False)\n",
    "plt"
   ]
  },
  {
   "cell_type": "code",
   "execution_count": 14,
   "metadata": {},
   "outputs": [
    {
     "name": "stderr",
     "output_type": "stream",
     "text": [
      "[nltk_data] Downloading package stopwords to\n",
      "[nltk_data]     /Users/shubham/nltk_data...\n"
     ]
    },
    {
     "name": "stdout",
     "output_type": "stream",
     "text": [
      "{\"hasn't\", 'hers', 'do', 'is', 'in', 'on', 'been', 'does', 'mightn', \"you'd\", \"couldn't\", 'couldn', \"she's\", 'it', 'i', 'own', \"mightn't\", 'which', 'have', 'or', 'themselves', \"needn't\", 'has', 'when', 'his', 'further', 'off', 'our', 'of', 'how', \"hadn't\", 'any', 'are', 'very', 'them', 'into', 'same', 'isn', 'because', 'd', 'wasn', 're', 'each', 'an', 'after', 'against', 'until', 'don', 'll', 'they', 'while', 'under', 'had', 'with', 'here', 'just', \"didn't\", 'only', 'not', 'now', \"you'll\", 'having', 'ourselves', 'did', 'hasn', \"haven't\", 'the', \"you're\", 't', 'so', 'he', 'too', 'we', 'once', 'hadn', 'that', 'these', \"shan't\", 'doesn', 'won', 'aren', 'between', \"it's\", 'few', 'haven', 'she', 'ma', 'by', 've', \"mustn't\", 'above', 'nor', 'my', 'ain', 'as', 'ours', 'her', 'but', 'most', 'some', 'for', 'a', 'yours', 'shan', 'where', \"weren't\", \"don't\", 'why', 'up', 'about', 'and', 'no', 'mustn', 'you', 'herself', 'theirs', 'again', 'can', 's', 'should', 'through', 'their', 'him', 'wouldn', 'such', 'both', 'if', 'whom', 'myself', 'yourselves', 'what', \"you've\", 'itself', 'over', 'y', 'from', 'your', 'am', 'will', 'those', \"doesn't\", 'weren', 'be', 'then', 'to', 'yourself', \"that'll\", 'its', 'himself', 'other', \"wasn't\", 'didn', 'this', \"aren't\", 'below', 'shouldn', 'was', 'o', 'who', \"shouldn't\", 'at', 'during', \"won't\", 'all', 'needn', 'than', \"isn't\", \"wouldn't\", 'doing', 'were', 'being', 'me', 'down', \"should've\", 'more', 'm', 'there', 'before', 'out'}\n"
     ]
    },
    {
     "name": "stderr",
     "output_type": "stream",
     "text": [
      "[nltk_data]   Unzipping corpora/stopwords.zip.\n"
     ]
    }
   ],
   "source": [
    "from nltk.corpus import stopwords\n",
    "nltk.download('stopwords')\n",
    "\n",
    "language = \"english\"\n",
    "stop_words = set(stopwords.words(language))\n",
    "print(stop_words)"
   ]
  },
  {
   "cell_type": "code",
   "execution_count": 18,
   "metadata": {},
   "outputs": [
    {
     "data": {
      "text/plain": [
       "['A',\n",
       " 'Topic',\n",
       " 'Kafka',\n",
       " 'something',\n",
       " 'message',\n",
       " 'sent',\n",
       " '.',\n",
       " 'The',\n",
       " 'consumer',\n",
       " 'applications',\n",
       " 'interested',\n",
       " 'topic',\n",
       " 'pulls',\n",
       " 'message',\n",
       " 'inside',\n",
       " 'topic',\n",
       " 'anything',\n",
       " 'data',\n",
       " '.',\n",
       " 'Up',\n",
       " 'specific',\n",
       " 'time',\n",
       " ',',\n",
       " 'number',\n",
       " 'consumer',\n",
       " 'applications',\n",
       " 'pull',\n",
       " 'message',\n",
       " 'number',\n",
       " 'times',\n",
       " '.']"
      ]
     },
     "execution_count": 18,
     "metadata": {},
     "output_type": "execute_result"
    }
   ],
   "source": [
    "filtered_words = []\n",
    "\n",
    "for word in words:\n",
    "    if word not in stop_words:\n",
    "        filtered_words.append(word)\n",
    "        \n",
    "filtered_words"
   ]
  },
  {
   "cell_type": "code",
   "execution_count": 19,
   "metadata": {},
   "outputs": [
    {
     "name": "stdout",
     "output_type": "stream",
     "text": [
      "Stemmed Sentence: ['A', 'topic', 'kafka', 'someth', 'messag', 'sent', '.', 'the', 'consum', 'applic', 'interest', 'topic', 'pull', 'messag', 'insid', 'topic', 'anyth', 'data', '.', 'Up', 'specif', 'time', ',', 'number', 'consum', 'applic', 'pull', 'messag', 'number', 'time', '.']\n"
     ]
    }
   ],
   "source": [
    "from nltk.stem import PorterStemmer\n",
    "ps = PorterStemmer()\n",
    "\n",
    "stemmed_words = []\n",
    "for word in filtered_words:\n",
    "    stemmed_words.append(ps.stem(word))\n",
    "\n",
    "print(\"Stemmed Sentence:\", stemmed_words)"
   ]
  },
  {
   "cell_type": "code",
   "execution_count": 29,
   "metadata": {},
   "outputs": [
    {
     "name": "stdout",
     "output_type": "stream",
     "text": [
      "['A', 'Topic', 'in', 'Kafka', 'is', 'something', 'where', 'a', 'message', 'is', 'sent', '.']\n"
     ]
    }
   ],
   "source": [
    "tokens = nltk.word_tokenize(sentences[0])\n",
    "print(tokens)"
   ]
  },
  {
   "cell_type": "code",
   "execution_count": 31,
   "metadata": {},
   "outputs": [
    {
     "name": "stderr",
     "output_type": "stream",
     "text": [
      "[nltk_data] Downloading package averaged_perceptron_tagger to\n",
      "[nltk_data]     /Users/shubham/nltk_data...\n",
      "[nltk_data]   Unzipping taggers/averaged_perceptron_tagger.zip.\n"
     ]
    },
    {
     "data": {
      "text/plain": [
       "[('A', 'DT'),\n",
       " ('Topic', 'NNP'),\n",
       " ('in', 'IN'),\n",
       " ('Kafka', 'NNP'),\n",
       " ('is', 'VBZ'),\n",
       " ('something', 'NN'),\n",
       " ('where', 'WRB'),\n",
       " ('a', 'DT'),\n",
       " ('message', 'NN'),\n",
       " ('is', 'VBZ'),\n",
       " ('sent', 'VBN'),\n",
       " ('.', '.')]"
      ]
     },
     "execution_count": 31,
     "metadata": {},
     "output_type": "execute_result"
    }
   ],
   "source": [
    "nltk.download('averaged_perceptron_tagger')\n",
    "nltk.pos_tag(tokens)"
   ]
  },
  {
   "cell_type": "code",
   "execution_count": null,
   "metadata": {},
   "outputs": [],
   "source": []
  }
 ],
 "metadata": {
  "kernelspec": {
   "display_name": "Python 3",
   "language": "python",
   "name": "python3"
  },
  "language_info": {
   "codemirror_mode": {
    "name": "ipython",
    "version": 3
   },
   "file_extension": ".py",
   "mimetype": "text/x-python",
   "name": "python",
   "nbconvert_exporter": "python",
   "pygments_lexer": "ipython3",
   "version": "3.6.8"
  }
 },
 "nbformat": 4,
 "nbformat_minor": 2
}
